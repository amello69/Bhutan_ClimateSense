{
  "nbformat": 4,
  "nbformat_minor": 0,
  "metadata": {
    "colab": {
      "provenance": []
    },
    "kernelspec": {
      "name": "python3",
      "display_name": "Python 3"
    },
    "language_info": {
      "name": "python"
    }
  },
  "cells": [
    {
      "cell_type": "markdown",
      "source": [
        "# Fetching GraphCastCFS data\n",
        "\n",
        "This notebook downloads graphcastcfs data into a google drive directory.\n",
        "You can set the specific date and other details and use your own directory by changing the appropriate values."
      ],
      "metadata": {
        "id": "y7f9EcwLOCRf"
      }
    },
    {
      "cell_type": "markdown",
      "source": [
        "## Mount goodle drive and set the directory where files are to be saved."
      ],
      "metadata": {
        "id": "210eV55FOfu2"
      }
    },
    {
      "cell_type": "code",
      "source": [
        "from google.colab import drive\n",
        "drive.mount('/content/gdrive')"
      ],
      "metadata": {
        "colab": {
          "base_uri": "https://localhost:8080/"
        },
        "id": "X3FDvtXVJzZA",
        "outputId": "14c3e05d-a8ad-4b97-8a4b-dba5b4638502"
      },
      "execution_count": 17,
      "outputs": [
        {
          "output_type": "stream",
          "name": "stdout",
          "text": [
            "Drive already mounted at /content/gdrive; to attempt to forcibly remount, call drive.mount(\"/content/gdrive\", force_remount=True).\n"
          ]
        }
      ]
    },
    {
      "cell_type": "markdown",
      "source": [
        "## Download GraphCastCFS data\n",
        "\n",
        "You can set:\n",
        "date\n",
        "cycle\n",
        "fore_cast_hour\n",
        "resolution\n",
        "and you"
      ],
      "metadata": {
        "id": "n31NauSVOwyu"
      }
    },
    {
      "cell_type": "code",
      "source": [
        "import os\n",
        "import requests\n",
        "\n",
        "def download_graphcast_gfs(\n",
        "    date='20250730',\n",
        "    cycle='00',\n",
        "    forecast_hour='000',\n",
        "    resolution='0p25',\n",
        "    out_dir='/content/gdrive/MyDrive/graphcastgfs_downloads/'\n",
        "):\n",
        "    \"\"\"\n",
        "    Downloads a single GraphCast GFS file from the S3 bucket into a date-named\n",
        "    subdirectory within the specified output directory.\n",
        "    \"\"\"\n",
        "    # Create a new subdirectory based on the date\n",
        "    dated_out_dir = os.path.join(out_dir, date)\n",
        "    os.makedirs(dated_out_dir, exist_ok=True)\n",
        "\n",
        "    # Correct S3 path and filename construction\n",
        "    filename = f\"graphcastgfs.t{cycle}z.pgrb2.{resolution}.f{forecast_hour}\"\n",
        "    s3_url = f\"https://noaa-nws-graphcastgfs-pds.s3.amazonaws.com/index.html#graphcastgfs.{date}/{filename}\"\n",
        "\n",
        "    # Update the local path to point to the new subdirectory\n",
        "    local_path = os.path.join(dated_out_dir, filename)\n",
        "\n",
        "    print(f\"Downloading: {filename} to {local_path}...\")\n",
        "\n",
        "    try:\n",
        "        response = requests.get(s3_url, stream=True)\n",
        "        response.raise_for_status()\n",
        "\n",
        "        with open(local_path, 'wb') as f:\n",
        "            for chunk in response.iter_content(chunk_size=8192):\n",
        "                f.write(chunk)\n",
        "\n",
        "        print(\"Download successful.\")\n",
        "\n",
        "    except requests.exceptions.RequestException as e:\n",
        "        print(f\"Error downloading {filename}: {e}\")\n",
        "\n",
        "# -------------------------------------------------------------\n",
        "# Main download loop\n",
        "# -------------------------------------------------------------\n",
        "\n",
        "forecast_hours = [f\"{h:03d}\" for h in range(0, 72 + 1, 6)]\n",
        "save_path = '/content/gdrive/MyDrive/graphcastgfs_downloads/'\n",
        "\n",
        "# This code will now create a folder named '20250730' inside 'graphcastgfs_downloads'\n",
        "# and save all the forecast files there.\n",
        "for fh in forecast_hours:\n",
        "    download_graphcast_gfs(\n",
        "        date='20250730',\n",
        "        cycle='00',\n",
        "        forecast_hour=fh,\n",
        "        out_dir=save_path\n",
        "    )"
      ],
      "metadata": {
        "colab": {
          "base_uri": "https://localhost:8080/"
        },
        "id": "X2q32qgJLDeP",
        "outputId": "65f400c0-1219-400d-ec99-3de2782fd033"
      },
      "execution_count": 20,
      "outputs": [
        {
          "output_type": "stream",
          "name": "stdout",
          "text": [
            "Downloading: graphcastgfs.t00z.pgrb2.0p25.f000 to /content/gdrive/MyDrive/graphcastgfs_downloads/20250730/graphcastgfs.t00z.pgrb2.0p25.f000...\n",
            "Download successful.\n",
            "Downloading: graphcastgfs.t00z.pgrb2.0p25.f006 to /content/gdrive/MyDrive/graphcastgfs_downloads/20250730/graphcastgfs.t00z.pgrb2.0p25.f006...\n",
            "Download successful.\n",
            "Downloading: graphcastgfs.t00z.pgrb2.0p25.f012 to /content/gdrive/MyDrive/graphcastgfs_downloads/20250730/graphcastgfs.t00z.pgrb2.0p25.f012...\n",
            "Download successful.\n",
            "Downloading: graphcastgfs.t00z.pgrb2.0p25.f018 to /content/gdrive/MyDrive/graphcastgfs_downloads/20250730/graphcastgfs.t00z.pgrb2.0p25.f018...\n",
            "Download successful.\n",
            "Downloading: graphcastgfs.t00z.pgrb2.0p25.f024 to /content/gdrive/MyDrive/graphcastgfs_downloads/20250730/graphcastgfs.t00z.pgrb2.0p25.f024...\n",
            "Download successful.\n",
            "Downloading: graphcastgfs.t00z.pgrb2.0p25.f030 to /content/gdrive/MyDrive/graphcastgfs_downloads/20250730/graphcastgfs.t00z.pgrb2.0p25.f030...\n",
            "Download successful.\n",
            "Downloading: graphcastgfs.t00z.pgrb2.0p25.f036 to /content/gdrive/MyDrive/graphcastgfs_downloads/20250730/graphcastgfs.t00z.pgrb2.0p25.f036...\n",
            "Download successful.\n",
            "Downloading: graphcastgfs.t00z.pgrb2.0p25.f042 to /content/gdrive/MyDrive/graphcastgfs_downloads/20250730/graphcastgfs.t00z.pgrb2.0p25.f042...\n",
            "Download successful.\n",
            "Downloading: graphcastgfs.t00z.pgrb2.0p25.f048 to /content/gdrive/MyDrive/graphcastgfs_downloads/20250730/graphcastgfs.t00z.pgrb2.0p25.f048...\n",
            "Download successful.\n",
            "Downloading: graphcastgfs.t00z.pgrb2.0p25.f054 to /content/gdrive/MyDrive/graphcastgfs_downloads/20250730/graphcastgfs.t00z.pgrb2.0p25.f054...\n",
            "Download successful.\n",
            "Downloading: graphcastgfs.t00z.pgrb2.0p25.f060 to /content/gdrive/MyDrive/graphcastgfs_downloads/20250730/graphcastgfs.t00z.pgrb2.0p25.f060...\n",
            "Download successful.\n",
            "Downloading: graphcastgfs.t00z.pgrb2.0p25.f066 to /content/gdrive/MyDrive/graphcastgfs_downloads/20250730/graphcastgfs.t00z.pgrb2.0p25.f066...\n",
            "Download successful.\n",
            "Downloading: graphcastgfs.t00z.pgrb2.0p25.f072 to /content/gdrive/MyDrive/graphcastgfs_downloads/20250730/graphcastgfs.t00z.pgrb2.0p25.f072...\n",
            "Download successful.\n"
          ]
        }
      ]
    }
  ]
}